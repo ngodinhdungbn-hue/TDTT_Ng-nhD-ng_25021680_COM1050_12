{
 "cells": [
  {
   "cell_type": "markdown",
   "id": "148ab4ff",
   "metadata": {},
   "source": [
    "Bài 1"
   ]
  },
  {
   "cell_type": "code",
   "execution_count": 1,
   "id": "0e21fab4",
   "metadata": {},
   "outputs": [
    {
     "name": "stdout",
     "output_type": "stream",
     "text": [
      "Số gấp đôi của a: 4\n"
     ]
    }
   ],
   "source": [
    "n=int(input('Nhập số nguyên n:'))\n",
    "print('Số gấp đôi của a:',n*2)"
   ]
  },
  {
   "cell_type": "markdown",
   "id": "300978c7",
   "metadata": {},
   "source": [
    "Bài 2"
   ]
  },
  {
   "cell_type": "code",
   "execution_count": 3,
   "id": "04895405",
   "metadata": {},
   "outputs": [
    {
     "name": "stdout",
     "output_type": "stream",
     "text": [
      "Diện tích trồng cấy: 2.86\n"
     ]
    }
   ],
   "source": [
    "chiều_rộng=a=float(input('Nhập chiều rộng:'))\n",
    "chiều_dài=b=float(input('Nhập chiều dài'))\n",
    "S_khu_vui_chơi= 3.14*((a/2)**2)\n",
    "print('Diện tích trồng cấy:',a*b-S_khu_vui_chơi)"
   ]
  },
  {
   "cell_type": "markdown",
   "id": "7cb8145c",
   "metadata": {},
   "source": [
    "Bài 3"
   ]
  },
  {
   "cell_type": "code",
   "execution_count": 8,
   "id": "51338b3d",
   "metadata": {},
   "outputs": [
    {
     "name": "stdout",
     "output_type": "stream",
     "text": [
      "b\n"
     ]
    }
   ],
   "source": [
    "nhập_kí_tự=input('Nhập kí tự:')\n",
    "if ord(nhập_kí_tự) >= 97:\n",
    "    print(chr(ord(nhập_kí_tự)-32))\n",
    "else: \n",
    "    print(chr(ord(nhập_kí_tự)+32))"
   ]
  },
  {
   "cell_type": "markdown",
   "id": "64f6c218",
   "metadata": {},
   "source": [
    "Bài 4"
   ]
  },
  {
   "cell_type": "code",
   "execution_count": 16,
   "id": "f73630b5",
   "metadata": {},
   "outputs": [
    {
     "name": "stdout",
     "output_type": "stream",
     "text": [
      " H là kí tự alphabet\n"
     ]
    }
   ],
   "source": [
    "c=input('Nhập một kí tự bất kì:')\n",
    "if ord(c) <= 122 and ord(c) >=65:\n",
    "    print(f\" {c} là kí tự alphabet\")\n",
    "else:\n",
    "    print(f\"{c} không phải là kí tự alphabet\")"
   ]
  },
  {
   "cell_type": "markdown",
   "id": "72263964",
   "metadata": {},
   "source": [
    "Bài 5"
   ]
  },
  {
   "cell_type": "code",
   "execution_count": 18,
   "id": "09018c29",
   "metadata": {},
   "outputs": [
    {
     "name": "stdout",
     "output_type": "stream",
     "text": [
      "a\n"
     ]
    }
   ],
   "source": [
    "Chữ_cái_in_hoa=input('Nhập chữ cái in hoa:')\n",
    "if ord(Chữ_cái_in_hoa)>=66:\n",
    "    print(chr(ord(Chữ_cái_in_hoa)+31))\n",
    "else:\n",
    "    print('A là trường hợp đặc biệt')"
   ]
  },
  {
   "cell_type": "markdown",
   "id": "00452a56",
   "metadata": {},
   "source": [
    "Bài 6"
   ]
  },
  {
   "cell_type": "code",
   "execution_count": 22,
   "id": "7d7f8436",
   "metadata": {},
   "outputs": [
    {
     "name": "stdout",
     "output_type": "stream",
     "text": [
      "Không phải 3 cạnh của tam giác\n"
     ]
    }
   ],
   "source": [
    "cạnh_a,cạnh_b,cạnh_c=map(float,input('Nhập ba cạnh của tam giác:').split())\n",
    "if cạnh_a+cạnh_b>cạnh_c and cạnh_a+cạnh_c>cạnh_b and cạnh_b+cạnh_c>cạnh_a:\n",
    "    p=(cạnh_a+cạnh_b+cạnh_c)/2\n",
    "    print('Diện tích tam giác:',(p*(p-cạnh_a)*(p-cạnh_b)*(p-cạnh_c))**0.5)\n",
    "else:\n",
    "    print('Không phải 3 cạnh của tam giác')"
   ]
  },
  {
   "cell_type": "markdown",
   "id": "b6d13eab",
   "metadata": {},
   "source": [
    "Bài 7\n"
   ]
  },
  {
   "cell_type": "code",
   "execution_count": 25,
   "id": "a4974803",
   "metadata": {},
   "outputs": [
    {
     "name": "stdout",
     "output_type": "stream",
     "text": [
      "Kí tự thứ 5 là: f\n",
      "Kí tự thứ 9 là: d\n"
     ]
    }
   ],
   "source": [
    "chuỗi_kí_tự_thường=input('Nhập chuỗi kí tự thường với hơn 20 kí tự')\n",
    "chuỗi_kí_tự_thường=list(chuỗi_kí_tự_thường)\n",
    "print(\"Kí tự thứ 5 là:\",chuỗi_kí_tự_thường[4])\n",
    "print(\"Kí tự thứ 9 là:\",chuỗi_kí_tự_thường[9])"
   ]
  },
  {
   "cell_type": "markdown",
   "id": "772e5849",
   "metadata": {},
   "source": [
    "Bài 8"
   ]
  },
  {
   "cell_type": "code",
   "execution_count": null,
   "id": "9750ea11",
   "metadata": {},
   "outputs": [],
   "source": [
    "Ten_chu_ho=input('Ten chu ho:')\n",
    "chi_so_thang_truoc=input('Chi so thang truoc:')\n",
    "chi_so_thang_nay=input('Chỉ so thang nay:')\n",
    "\n"
   ]
  }
 ],
 "metadata": {
  "kernelspec": {
   "display_name": "Python 3",
   "language": "python",
   "name": "python3"
  },
  "language_info": {
   "codemirror_mode": {
    "name": "ipython",
    "version": 3
   },
   "file_extension": ".py",
   "mimetype": "text/x-python",
   "name": "python",
   "nbconvert_exporter": "python",
   "pygments_lexer": "ipython3",
   "version": "3.13.7"
  }
 },
 "nbformat": 4,
 "nbformat_minor": 5
}
