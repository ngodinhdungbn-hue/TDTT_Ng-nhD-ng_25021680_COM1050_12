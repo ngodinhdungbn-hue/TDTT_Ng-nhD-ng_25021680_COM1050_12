{
 "cells": [
  {
   "cell_type": "markdown",
   "id": "c5ee383a",
   "metadata": {},
   "source": [
    "W2A1"
   ]
  },
  {
   "cell_type": "code",
   "execution_count": null,
   "id": "30ee1633",
   "metadata": {},
   "outputs": [
    {
     "name": "stdout",
     "output_type": "stream",
     "text": [
      "Hello World!\n"
     ]
    }
   ],
   "source": [
    "print(\"Hello World!\")"
   ]
  },
  {
   "cell_type": "markdown",
   "id": "c2e7cf3b",
   "metadata": {},
   "source": [
    "W2A2"
   ]
  },
  {
   "cell_type": "code",
   "execution_count": null,
   "id": "9cc471aa",
   "metadata": {},
   "outputs": [],
   "source": [
    "tên=input('Nhập họ và tên:')\n",
    "print('Xin chào',tên)"
   ]
  },
  {
   "cell_type": "markdown",
   "id": "8e1d85f8",
   "metadata": {},
   "source": [
    "W2A3"
   ]
  },
  {
   "cell_type": "code",
   "execution_count": null,
   "id": "874fc6e5",
   "metadata": {},
   "outputs": [],
   "source": [
    "a=float(input('Nhập số nguyên a:'))\n",
    "b=float(input('Nhập số nguyên b:'))\n",
    "Tổng=a+b\n",
    "Hiệu=a-b\n",
    "Tích=a*b\n",
    "Chia_lay_phan_nguyen=a//b\n",
    "Chia_lay_phan_du=a%b\n",
    "#Phep_chia_thuc= f\"{a/b:.2f}\"\n",
    "Phep_chia_thuc= round(a/b,2)\n",
    "print(Tổng,Hiệu,Tích,Chia_lay_phan_nguyen,Chia_lay_phan_du,Phep_chia_thuc,sep='\\n')"
   ]
  },
  {
   "cell_type": "markdown",
   "id": "8f83e2b8",
   "metadata": {},
   "source": [
    "W2A4"
   ]
  },
  {
   "cell_type": "code",
   "execution_count": null,
   "id": "6280bf73",
   "metadata": {},
   "outputs": [],
   "source": [
    "a1,b1,c1,a2,b2,a3= map(int,input('Nhập các đầu điểm đúng thứ tự:').split())\n",
    "TB= ((a1+b1+c1)+(a2+b2)*2+a3*3)/10\n",
    "print(TB)"
   ]
  },
  {
   "cell_type": "markdown",
   "id": "e7fc17cc",
   "metadata": {},
   "source": [
    "W2A5"
   ]
  },
  {
   "cell_type": "code",
   "execution_count": null,
   "id": "f3bdc48d",
   "metadata": {},
   "outputs": [],
   "source": [
    "a,b=map(float,input(\"Nhập hai số nguyên a,b:\").split())\n",
    "print('a mũ b là:',a*b)\n"
   ]
  },
  {
   "cell_type": "markdown",
   "id": "3a69ac14",
   "metadata": {},
   "source": [
    "W2A6"
   ]
  },
  {
   "cell_type": "code",
   "execution_count": null,
   "id": "08fc70e5",
   "metadata": {},
   "outputs": [],
   "source": [
    "kí_tự_thường= input('Nhập kí tự thường:')\n",
    "print(ord(kí_tự_thường))\n",
    "kí_tự_in_hoa= kí_tự_thường.upper()\n",
    "print(kí_tự_in_hoa)"
   ]
  },
  {
   "cell_type": "markdown",
   "id": "035f77a1",
   "metadata": {},
   "source": [
    "W2A7"
   ]
  },
  {
   "cell_type": "code",
   "execution_count": null,
   "id": "76342730",
   "metadata": {},
   "outputs": [],
   "source": [
    "A=((13**2)*3)+5\n",
    "B=13**2*3+5\n",
    "print(A,B,sep='\\n')"
   ]
  },
  {
   "cell_type": "markdown",
   "id": "77b73bc0",
   "metadata": {},
   "source": [
    "W2A8"
   ]
  },
  {
   "cell_type": "code",
   "execution_count": null,
   "id": "227308f7",
   "metadata": {},
   "outputs": [],
   "source": [
    "C=input('Nhiệt độ theo thang Celsius:')\n",
    "C=int(C)\n",
    "F=9/5*C+32\n",
    "print(F)"
   ]
  },
  {
   "cell_type": "markdown",
   "id": "8cfc482c",
   "metadata": {},
   "source": [
    "W2A9"
   ]
  },
  {
   "cell_type": "code",
   "execution_count": null,
   "id": "ef2c63a0",
   "metadata": {},
   "outputs": [],
   "source": [
    "x=float(input('Giá của chiếc đồng hồ:'))\n",
    "Tiền_trả= x*1.4+10\n",
    "Tiền_trả= f\"{Tiền_trả: .2f}\"\n",
    "#Tiền_trả=round(Tiền_trả,2), chỉ thể hiện hai chữ số sau dấu chấm với phép tính có 2 số sau dấu chấm\n",
    "print(Tiền_trả)"
   ]
  },
  {
   "cell_type": "markdown",
   "id": "38f4a4bc",
   "metadata": {},
   "source": [
    "W2A10"
   ]
  },
  {
   "cell_type": "code",
   "execution_count": null,
   "id": "c9ab9368",
   "metadata": {},
   "outputs": [],
   "source": [
    "Tên_1,Tên_2,Tên_3= input('Tên người:').split()\n",
    "print(Tên_3,Tên_2,Tên_1)"
   ]
  },
  {
   "cell_type": "markdown",
   "id": "74e32a1a",
   "metadata": {},
   "source": [
    "W2A11"
   ]
  },
  {
   "cell_type": "code",
   "execution_count": null,
   "id": "c5ea52f3",
   "metadata": {},
   "outputs": [],
   "source": [
    "Giờ=float(input(\"Nhập số giờ:\"))\n",
    "Phút=float(input('Nhập số phút:'))\n",
    "print(\"{0} giờ = {1} giây  {2} phút={3} giây\".format(Giờ,Giờ*60*60,Phút,Phút*60))"
   ]
  },
  {
   "cell_type": "markdown",
   "id": "36dd55dc",
   "metadata": {},
   "source": [
    "W2A12"
   ]
  },
  {
   "cell_type": "code",
   "execution_count": null,
   "id": "5af91451",
   "metadata": {},
   "outputs": [],
   "source": [
    "Độ_dài_cạnh= int(input(\"Độ dài cạnh n=\"))\n",
    "số_miếng_dán= Độ_dài_cạnh**2*6\n",
    "print(\"Số miếng dán của rubik là:\",số_miếng_dán)"
   ]
  },
  {
   "cell_type": "markdown",
   "id": "b9f8cf16",
   "metadata": {},
   "source": [
    "W2A13"
   ]
  },
  {
   "cell_type": "code",
   "execution_count": null,
   "id": "39ea55ad",
   "metadata": {},
   "outputs": [],
   "source": [
    "a,b=map(int,input(\"Nhập 2 số nguyên dương:\").split())\n",
    "print(\"Hàng đơn vị của tích hai số :\",a*b%10)"
   ]
  },
  {
   "cell_type": "markdown",
   "id": "cddf3c84",
   "metadata": {},
   "source": [
    "W2A14"
   ]
  },
  {
   "cell_type": "code",
   "execution_count": null,
   "id": "bc00ddb7",
   "metadata": {},
   "outputs": [],
   "source": [
    "a= input('a=')\n",
    "b= input('b=')\n",
    "a,b=b,a\n",
    "print('a=',a) \n",
    "print('b=',b)"
   ]
  },
  {
   "cell_type": "markdown",
   "id": "175551d4",
   "metadata": {},
   "source": [
    "W2A15"
   ]
  },
  {
   "cell_type": "code",
   "execution_count": null,
   "id": "43f8ca89",
   "metadata": {},
   "outputs": [],
   "source": [
    "n = int(input(\"Nhập số nguyên dương n: \"))\n",
    "sao = 6 * n * (n - 1) + 1\n",
    "print(sao)\n"
   ]
  },
  {
   "cell_type": "markdown",
   "id": "ecd18b49",
   "metadata": {},
   "source": [
    "W2A16"
   ]
  },
  {
   "cell_type": "code",
   "execution_count": null,
   "id": "3c239c94",
   "metadata": {},
   "outputs": [],
   "source": [
    "print('Spring\\nSummer\\nAutumn\\nWninter')\n"
   ]
  },
  {
   "cell_type": "markdown",
   "id": "af268f2b",
   "metadata": {},
   "source": [
    "W2A17"
   ]
  },
  {
   "cell_type": "code",
   "execution_count": null,
   "id": "4ea3f76e",
   "metadata": {},
   "outputs": [],
   "source": [
    "print('*  \\n** \\n***')"
   ]
  },
  {
   "cell_type": "markdown",
   "id": "3a18cec1",
   "metadata": {},
   "source": [
    "W2A18"
   ]
  },
  {
   "cell_type": "code",
   "execution_count": null,
   "id": "4bf58948",
   "metadata": {},
   "outputs": [],
   "source": [
    "print('### # #   ### ###\\n #  #  #   #   #\\n #  #   #  #   #\\n #  #  #   #   #\\n #  ##     #   #')"
   ]
  },
  {
   "cell_type": "markdown",
   "id": "7390a3a2",
   "metadata": {},
   "source": [
    "W2A19"
   ]
  },
  {
   "cell_type": "code",
   "execution_count": null,
   "id": "aaddbc80",
   "metadata": {},
   "outputs": [],
   "source": [
    "print('Monday\\nTuesday\\nWednesday\\nThursday\\nFriday\\nSaturday\\nSunday ')"
   ]
  },
  {
   "cell_type": "markdown",
   "id": "0c452bb2",
   "metadata": {},
   "source": [
    "W2A20"
   ]
  },
  {
   "cell_type": "code",
   "execution_count": null,
   "id": "b9c2ea49",
   "metadata": {},
   "outputs": [],
   "source": [
    "print('January\\nFebruary\\nMarch\\nApril\\nMay\\nJune\\nJuly\\nAugust\\nSeptember\\nOctober\\nNovember\\nDecember ')"
   ]
  },
  {
   "cell_type": "markdown",
   "id": "ae9068bc",
   "metadata": {},
   "source": [
    "W2A21"
   ]
  },
  {
   "cell_type": "code",
   "execution_count": null,
   "id": "2d798ab2",
   "metadata": {},
   "outputs": [],
   "source": [
    "print('Hello,world\\n '*10)"
   ]
  }
 ],
 "metadata": {
  "kernelspec": {
   "display_name": "Python 3",
   "language": "python",
   "name": "python3"
  },
  "language_info": {
   "codemirror_mode": {
    "name": "ipython",
    "version": 3
   },
   "file_extension": ".py",
   "mimetype": "text/x-python",
   "name": "python",
   "nbconvert_exporter": "python",
   "pygments_lexer": "ipython3",
   "version": "3.13.7"
  }
 },
 "nbformat": 4,
 "nbformat_minor": 5
}
