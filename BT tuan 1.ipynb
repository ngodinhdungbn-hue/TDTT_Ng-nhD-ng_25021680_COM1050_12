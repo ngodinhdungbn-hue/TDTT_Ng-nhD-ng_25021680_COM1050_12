{
 "cells": [
  {
   "cell_type": "markdown",
   "id": "c5ee383a",
   "metadata": {},
   "source": [
    "W2A1"
   ]
  },
  {
   "cell_type": "code",
   "execution_count": null,
   "id": "30ee1633",
   "metadata": {},
   "outputs": [
    {
     "name": "stdout",
     "output_type": "stream",
     "text": [
      "Hello World!\n"
     ]
    }
   ],
   "source": [
    "print(\"Hello World!\")"
   ]
  },
  {
   "cell_type": "markdown",
   "id": "c2e7cf3b",
   "metadata": {},
   "source": [
    "W2A2"
   ]
  },
  {
   "cell_type": "code",
   "execution_count": null,
   "id": "9cc471aa",
   "metadata": {},
   "outputs": [],
   "source": [
    "tên=input('Nhập họ và tên:')\n",
    "print('Xin chào',tên)"
   ]
  },
  {
   "cell_type": "markdown",
   "id": "8e1d85f8",
   "metadata": {},
   "source": [
    "W2A3"
   ]
  },
  {
   "cell_type": "code",
   "execution_count": null,
   "id": "874fc6e5",
   "metadata": {},
   "outputs": [],
   "source": [
    "a=float(input('Nhập số nguyên a:'))\n",
    "b=float(input('Nhập số nguyên b:'))\n",
    "Tổng=a+b\n",
    "Hiệu=a-b\n",
    "Tích=a*b\n",
    "Chia_lay_phan_nguyen=a//b\n",
    "Chia_lay_phan_du=a%b\n",
    "#Phep_chia_thuc= f\"{a/b:.2f}\"\n",
    "Phep_chia_thuc= round(a/b,2)\n",
    "print(Tổng,Hiệu,Tích,Chia_lay_phan_nguyen,Chia_lay_phan_du,Phep_chia_thuc,sep='\\n')"
   ]
  },
  {
   "cell_type": "markdown",
   "id": "8f83e2b8",
   "metadata": {},
   "source": [
    "W2A4"
   ]
  },
  {
   "cell_type": "code",
   "execution_count": null,
   "id": "6280bf73",
   "metadata": {},
   "outputs": [],
   "source": [
    "a1,b1,c1,a2,b2,a3= map(int,input('Nhập các đầu điểm đúng thứ tự:').split())\n",
    "TB= ((a1+b1+c1)+(a2+b2)*2+a3*3)/10\n",
    "print(TB)"
   ]
  },
  {
   "cell_type": "markdown",
   "id": "e7fc17cc",
   "metadata": {},
   "source": [
    "W2A5"
   ]
  },
  {
   "cell_type": "code",
   "execution_count": null,
   "id": "f3bdc48d",
   "metadata": {},
   "outputs": [],
   "source": [
    "a,b=map(float,input(\"Nhập hai số nguyên a,b:\").split())\n",
    "print('a mũ b là:',a*b)\n"
   ]
  },
  {
   "cell_type": "markdown",
   "id": "3a69ac14",
   "metadata": {},
   "source": [
    "W2A6"
   ]
  },
  {
   "cell_type": "code",
   "execution_count": null,
   "id": "08fc70e5",
   "metadata": {},
   "outputs": [],
   "source": [
    "kí_tự_thường= input('Nhập kí tự thường:')\n",
    "print(ord(kí_tự_thường))\n",
    "kí_tự_in_hoa= kí_tự_thường.upper()\n",
    "print(kí_tự_in_hoa)"
   ]
  },
  {
   "cell_type": "markdown",
   "id": "035f77a1",
   "metadata": {},
   "source": []
  }
 ],
 "metadata": {
  "kernelspec": {
   "display_name": "Python 3",
   "language": "python",
   "name": "python3"
  },
  "language_info": {
   "codemirror_mode": {
    "name": "ipython",
    "version": 3
   },
   "file_extension": ".py",
   "mimetype": "text/x-python",
   "name": "python",
   "nbconvert_exporter": "python",
   "pygments_lexer": "ipython3",
   "version": "3.13.7"
  }
 },
 "nbformat": 4,
 "nbformat_minor": 5
}
